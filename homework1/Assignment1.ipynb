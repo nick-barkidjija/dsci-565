{
 "cells": [
  {
   "cell_type": "markdown",
   "id": "1ca3f5a5-5055-4196-aab5-81e1c965e536",
   "metadata": {},
   "source": [
    "### Assignment 1 (due Wednesday, Sep 10th, 11:59 pm)\n",
    "\n",
    "Submit your completed .ipynb file to the corresponding Brightspace assignment.\n",
    "\n",
    "#### Overview: \n",
    "\n",
    "In this assignment, you’ll become familiar with PyTorch by following the [official tutorial](https://pytorch.org/tutorials/beginner/deep_learning_60min_blitz.html). You will also implement a classifier for the CIFAR-10 dataset and adapt it to use the d2l library’s API.\n",
    "\n",
    "\n",
    "#### Tasks: \n",
    "* **Follow the tutorial:** Start by reading and completing the tutorial to gain an understanding of PyTorch basics.\n",
    "* **Implement a CIFAR-10 Classifier:** Build a classifier for the CIFAR-10 dataset. You are free to design the network structure and choose the hyperparameters.\n",
    "* **Port to d2l API:** Adapt your classifier to the d2l library by creating two classes: ***d2l.Classifier*** and ***d2l.DataModule***. Use these to fit your model.\n",
    "\n",
    "#### Hints:\n",
    "* For the d2l API implementation, you can refer to examples from previous chapters (e.g., Example 5.6). Chapters 6 and 23.8 are also good references.\n",
    "* You can check the source code in d2l, such as the FashionMNIST dataset implementation in `d2l/torch.py`.\n",
    "* Your final model should achieve a **validation accuracy (val_acc) of at least 0.70**, similar to the example figure below.\n",
    "<br><br>\n",
    "\n",
    "\n",
    "<div align=\"center\">\n",
    "  <img src=\"attachment:a34e5eb8-fecb-4d52-ab9d-da1286186b84.png\" alt=\"image.png\">\n",
    "</div>"
   ]
  },
  {
   "cell_type": "markdown",
   "id": "b7f0b4d9",
   "metadata": {},
   "source": []
  },
  {
   "cell_type": "markdown",
   "id": "4fb8b800-dc84-40a8-8a2d-3e6356563864",
   "metadata": {},
   "source": [
    "## Your d2l.Classifier and d2l.DataModule"
   ]
  },
  {
   "cell_type": "code",
   "execution_count": 1,
   "id": "77ed44c7-903c-42ef-8249-c7371b45dcf1",
   "metadata": {},
   "outputs": [],
   "source": [
    "##### YOUR CLASSIFIER AND DATAMODULE HERE #####\n",
    "\n"
   ]
  },
  {
   "cell_type": "markdown",
   "id": "a876232a-67a9-4dd9-9c4c-011e87a630b9",
   "metadata": {},
   "source": [
    "## Training Routine\n",
    "Your training routine should train the classifier and output a loss plot similar to the one above, where the validation accuracy is at least 0.7 at the end of the run.   Please use functions from the d2l library to train (the Trainer class, .fit())."
   ]
  },
  {
   "cell_type": "code",
   "execution_count": 2,
   "id": "7c05974f-bb19-4d5e-af40-b8afdbe292ab",
   "metadata": {},
   "outputs": [],
   "source": [
    "##### YOUR TRAINING ROUTINE HERE #####\n",
    "\n"
   ]
  }
 ],
 "metadata": {
  "kernelspec": {
   "display_name": "Python 3 (ipykernel)",
   "language": "python",
   "name": "python3"
  },
  "language_info": {
   "codemirror_mode": {
    "name": "ipython",
    "version": 3
   },
   "file_extension": ".py",
   "mimetype": "text/x-python",
   "name": "python",
   "nbconvert_exporter": "python",
   "pygments_lexer": "ipython3",
   "version": "3.11.5"
  }
 },
 "nbformat": 4,
 "nbformat_minor": 5
}
